{
 "cells": [
  {
   "cell_type": "code",
   "execution_count": 37,
   "metadata": {},
   "outputs": [
    {
     "data": {
      "text/plain": [
       "array([], shape=(0, 3), dtype=int64)"
      ]
     },
     "execution_count": 37,
     "metadata": {},
     "output_type": "execute_result"
    }
   ],
   "source": [
    "import numpy as np\n",
    "\n",
    "keypoint_KD = np.arange(12).reshape((4,3))\n",
    "mask = np.array([False,False,False,False])\n",
    "\n",
    "keypoint_KD[mask,:]"
   ]
  },
  {
   "cell_type": "code",
   "execution_count": 54,
   "metadata": {},
   "outputs": [],
   "source": [
    "\n",
    "keypoint_mask_K = np.array([True, False,True, False,True, False,True, False,True, False,])\n",
    "SKELETAL_LINE_PAIRS_LIST = [(4,2),(2,0),(0,1),(1,3),\n",
    "                            (10,8),(8,6),(6,5),(5,7),(7,8),\n",
    "                            (6,12),(12,14),(14,16),(5,11),(11,13),(13,15),(12,11)]\n",
    "K = keypoint_mask_K.shape[0]\n",
    "include_list = np.arange(K)[keypoint_mask_K].astype(np.int32)\n",
    "filtered_list = [pair for pair in SKELETAL_LINE_PAIRS_LIST \n",
    "                    if pair[0] in include_list and pair[1] in include_list]\n",
    "\n",
    "for valid_pair in filtered_list:\n",
    "    print(keypoint_mask_K[valid_pair[0]])\n",
    "\n",
    "\n",
    "# filtered_list = [pair for pair in SKELETAL_LINE_PAIRS_LIST \n",
    "                #  if not (pair[0] in exclude_list or pair in exclude_list)]\n"
   ]
  },
  {
   "cell_type": "code",
   "execution_count": 27,
   "metadata": {},
   "outputs": [
    {
     "name": "stdout",
     "output_type": "stream",
     "text": [
      "brand Ford\n",
      "model Mustang\n",
      "year 1964\n"
     ]
    }
   ],
   "source": [
    "car = {\n",
    "  \"brand\": \"Ford\",\n",
    "  \"model\": \"Mustang\",\n",
    "  \"year\": 1964\n",
    "}\n",
    "\n",
    "x = car.items()\n",
    "\n",
    "for key, value in car.items():\n",
    "    print(key, value)"
   ]
  },
  {
   "cell_type": "code",
   "execution_count": 35,
   "metadata": {},
   "outputs": [
    {
     "name": "stdout",
     "output_type": "stream",
     "text": [
      "232\n",
      "232\n",
      "232\n",
      "232\n",
      "232\n"
     ]
    }
   ],
   "source": [
    "import sys\n",
    "\n",
    "# Create a dictionary\n",
    "my_dict = {'a': 1, 'b': 2, 'c': 3, 'd': 4}\n",
    "print(sys.getsizeof(my_dict))\n",
    "# Delete specific elements from the dictionary\n",
    "\n",
    "\n",
    "del my_dict['a']\n",
    "print(sys.getsizeof(my_dict))\n",
    "\n",
    "del my_dict['b']\n",
    "print(sys.getsizeof(my_dict))\n",
    "\n",
    "my_dict['c'] = None\n",
    "print(sys.getsizeof(my_dict))\n",
    "    \n",
    "del my_dict['c']\n",
    "print(sys.getsizeof(my_dict))"
   ]
  },
  {
   "cell_type": "code",
   "execution_count": 26,
   "metadata": {},
   "outputs": [
    {
     "name": "stdout",
     "output_type": "stream",
     "text": [
      "<class 'numpy.bool_'>\n"
     ]
    }
   ],
   "source": [
    "import numpy as np\n",
    "\n",
    "a = np.array([True, False]).astype(np.int16)\n",
    "print(type(a[0]))"
   ]
  },
  {
   "cell_type": "code",
   "execution_count": 15,
   "metadata": {},
   "outputs": [
    {
     "name": "stdout",
     "output_type": "stream",
     "text": [
      "[<feature_extractor.KalmanFilter.KalmanFilter object at 0x7f2db724fe50>\n",
      " <feature_extractor.KalmanFilter.KalmanFilter object at 0x7f2db724f580>\n",
      " <feature_extractor.KalmanFilter.KalmanFilter object at 0x7f2db724e890>\n",
      " <feature_extractor.KalmanFilter.KalmanFilter object at 0x7f2db724eec0>\n",
      " <feature_extractor.KalmanFilter.KalmanFilter object at 0x7f2db724eb30>\n",
      " <feature_extractor.KalmanFilter.KalmanFilter object at 0x7f2db724c100>\n",
      " <feature_extractor.KalmanFilter.KalmanFilter object at 0x7f2db724faf0>\n",
      " <feature_extractor.KalmanFilter.KalmanFilter object at 0x7f2db724c4f0>\n",
      " <feature_extractor.KalmanFilter.KalmanFilter object at 0x7f2db724e980>\n",
      " <feature_extractor.KalmanFilter.KalmanFilter object at 0x7f2db724cd00>\n",
      " <feature_extractor.KalmanFilter.KalmanFilter object at 0x7f2db724cc10>\n",
      " <feature_extractor.KalmanFilter.KalmanFilter object at 0x7f2db724d150>\n",
      " <feature_extractor.KalmanFilter.KalmanFilter object at 0x7f2db724d570>\n",
      " <feature_extractor.KalmanFilter.KalmanFilter object at 0x7f2db724d0f0>\n",
      " <feature_extractor.KalmanFilter.KalmanFilter object at 0x7f2db724cd90>\n",
      " <feature_extractor.KalmanFilter.KalmanFilter object at 0x7f2db724cf10>\n",
      " <feature_extractor.KalmanFilter.KalmanFilter object at 0x7f2db724c2e0>]\n"
     ]
    }
   ],
   "source": [
    "import numpy as np\n",
    "from feature_extractor.KalmanFilter import KalmanFilter\n",
    "\n",
    "a = np.empty(17, dtype=object)\n",
    "for i in range(17):\n",
    "    a[i] = KalmanFilter()\n",
    "\n",
    "print(a)"
   ]
  },
  {
   "cell_type": "code",
   "execution_count": 19,
   "metadata": {},
   "outputs": [
    {
     "name": "stdout",
     "output_type": "stream",
     "text": [
      "[[False False]\n",
      " [False False]\n",
      " [False False]\n",
      " [ True  True]\n",
      " [ True  True]\n",
      " [ True  True]\n",
      " [ True  True]\n",
      " [False False]\n",
      " [False False]\n",
      " [False False]]\n",
      "[False False False  True  True  True  True False False False]\n"
     ]
    }
   ],
   "source": [
    "import numpy as np\n",
    "keypoints_2d = np.array([\n",
    "    [0.00, 0.00, 0.10],\n",
    "    [0.00, 0.00, 0.10],\n",
    "    [0.00, 0.00, 0.10],\n",
    "    [700, 500, 0.9],\n",
    "    [700, 500, 0.9],\n",
    "    [700, 500, 0.9],\n",
    "    [700, 500, 0.9],\n",
    "    [0.00, 0.00, 0.10],\n",
    "    [0.00, 0.00, 0.10],\n",
    "    [0.00, 0.00, 0.10],\n",
    "\n",
    "])\n",
    "valid_xy = keypoints_2d[:,:2] != int(0)        # bool [K,2]\n",
    "valid_keypoint = valid_xy[:,0] & valid_xy[:,1]\n",
    "print(valid_xy)\n",
    "print(valid_keypoint)"
   ]
  },
  {
   "cell_type": "code",
   "execution_count": 33,
   "metadata": {},
   "outputs": [
    {
     "name": "stdout",
     "output_type": "stream",
     "text": [
      "[[[0.11113873 0.59743193 0.9495511 ]\n",
      "  [0.87999633 0.70648137 0.12723671]]\n",
      "\n",
      " [[0.33335164 0.96645536 0.6369063 ]\n",
      "  [0.89202902 0.55118741 0.12110179]]]\n",
      "{1: array([[[0., 0., 0.],\n",
      "        [0., 0., 0.]],\n",
      "\n",
      "       [[0., 0., 0.],\n",
      "        [0., 0., 0.]]]), 2: array([3, 4, 5, 6, 7])}\n"
     ]
    }
   ],
   "source": [
    "from std_msgs.msg import Int16MultiArray\n",
    "import numpy as np\n",
    "import time\n",
    "\n",
    "keypoints_3d = np.random.random((2, 2, 3))\n",
    "id_human = np.array([3,4,5,6,7])\n",
    "\n",
    "\n",
    "a = {1:keypoints_3d, 2:id_human}\n",
    "b =  a.setdefault(1, keypoints_3d)\n",
    "print(b)\n",
    "b = np.zeros_like(keypoints_3d)\n",
    "print(a)"
   ]
  }
 ],
 "metadata": {
  "kernelspec": {
   "display_name": ".venv",
   "language": "python",
   "name": "python3"
  },
  "language_info": {
   "codemirror_mode": {
    "name": "ipython",
    "version": 3
   },
   "file_extension": ".py",
   "mimetype": "text/x-python",
   "name": "python",
   "nbconvert_exporter": "python",
   "pygments_lexer": "ipython3",
   "version": "3.10.13"
  }
 },
 "nbformat": 4,
 "nbformat_minor": 2
}
