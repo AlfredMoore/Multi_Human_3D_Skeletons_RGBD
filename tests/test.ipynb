{
 "cells": [
  {
   "cell_type": "code",
   "execution_count": 37,
   "metadata": {},
   "outputs": [
    {
     "data": {
      "text/plain": [
       "array([], shape=(0, 3), dtype=int64)"
      ]
     },
     "execution_count": 37,
     "metadata": {},
     "output_type": "execute_result"
    }
   ],
   "source": [
    "import numpy as np\n",
    "\n",
    "keypoint_KD = np.arange(12).reshape((4,3))\n",
    "mask = np.array([False,False,False,False])\n",
    "\n",
    "keypoint_KD[mask,:]"
   ]
  },
  {
   "cell_type": "code",
   "execution_count": 54,
   "metadata": {},
   "outputs": [],
   "source": [
    "\n",
    "keypoint_mask_K = np.array([True, False,True, False,True, False,True, False,True, False,])\n",
    "SKELETAL_LINE_PAIRS_LIST = [(4,2),(2,0),(0,1),(1,3),\n",
    "                            (10,8),(8,6),(6,5),(5,7),(7,8),\n",
    "                            (6,12),(12,14),(14,16),(5,11),(11,13),(13,15),(12,11)]\n",
    "K = keypoint_mask_K.shape[0]\n",
    "include_list = np.arange(K)[keypoint_mask_K].astype(np.int32)\n",
    "filtered_list = [pair for pair in SKELETAL_LINE_PAIRS_LIST \n",
    "                    if pair[0] in include_list and pair[1] in include_list]\n",
    "\n",
    "for valid_pair in filtered_list:\n",
    "    print(keypoint_mask_K[valid_pair[0]])\n",
    "\n",
    "\n",
    "# filtered_list = [pair for pair in SKELETAL_LINE_PAIRS_LIST \n",
    "                #  if not (pair[0] in exclude_list or pair in exclude_list)]\n"
   ]
  },
  {
   "cell_type": "code",
   "execution_count": 27,
   "metadata": {},
   "outputs": [
    {
     "name": "stdout",
     "output_type": "stream",
     "text": [
      "brand Ford\n",
      "model Mustang\n",
      "year 1964\n"
     ]
    }
   ],
   "source": [
    "car = {\n",
    "  \"brand\": \"Ford\",\n",
    "  \"model\": \"Mustang\",\n",
    "  \"year\": 1964\n",
    "}\n",
    "\n",
    "x = car.items()\n",
    "\n",
    "for key, value in car.items():\n",
    "    print(key, value)"
   ]
  },
  {
   "cell_type": "code",
   "execution_count": 35,
   "metadata": {},
   "outputs": [
    {
     "name": "stdout",
     "output_type": "stream",
     "text": [
      "232\n",
      "232\n",
      "232\n",
      "232\n",
      "232\n"
     ]
    }
   ],
   "source": [
    "import sys\n",
    "\n",
    "# Create a dictionary\n",
    "my_dict = {'a': 1, 'b': 2, 'c': 3, 'd': 4}\n",
    "print(sys.getsizeof(my_dict))\n",
    "# Delete specific elements from the dictionary\n",
    "\n",
    "\n",
    "del my_dict['a']\n",
    "print(sys.getsizeof(my_dict))\n",
    "\n",
    "del my_dict['b']\n",
    "print(sys.getsizeof(my_dict))\n",
    "\n",
    "my_dict['c'] = None\n",
    "print(sys.getsizeof(my_dict))\n",
    "    \n",
    "del my_dict['c']\n",
    "print(sys.getsizeof(my_dict))"
   ]
  },
  {
   "cell_type": "code",
   "execution_count": 12,
   "metadata": {},
   "outputs": [
    {
     "name": "stdout",
     "output_type": "stream",
     "text": [
      "[1 2] tensor([-0.9601, -2.7959], device='cuda:0')\n",
      "<class 'numpy.int16'>\n"
     ]
    }
   ],
   "source": [
    "import torch\n",
    "# from torch import Tensor\n",
    "import numpy as np\n",
    "\n",
    "a = np.array([1,2],dtype=np.int16)\n",
    "b = torch.randn((2,),device='cuda:0')\n",
    "\n",
    "print(a,b)\n",
    "a[0] = b[0]\n",
    "print(type(a[0]))"
   ]
  },
  {
   "cell_type": "code",
   "execution_count": 15,
   "metadata": {},
   "outputs": [
    {
     "name": "stdout",
     "output_type": "stream",
     "text": [
      "[<feature_extractor.KalmanFilter.KalmanFilter object at 0x7f2db724fe50>\n",
      " <feature_extractor.KalmanFilter.KalmanFilter object at 0x7f2db724f580>\n",
      " <feature_extractor.KalmanFilter.KalmanFilter object at 0x7f2db724e890>\n",
      " <feature_extractor.KalmanFilter.KalmanFilter object at 0x7f2db724eec0>\n",
      " <feature_extractor.KalmanFilter.KalmanFilter object at 0x7f2db724eb30>\n",
      " <feature_extractor.KalmanFilter.KalmanFilter object at 0x7f2db724c100>\n",
      " <feature_extractor.KalmanFilter.KalmanFilter object at 0x7f2db724faf0>\n",
      " <feature_extractor.KalmanFilter.KalmanFilter object at 0x7f2db724c4f0>\n",
      " <feature_extractor.KalmanFilter.KalmanFilter object at 0x7f2db724e980>\n",
      " <feature_extractor.KalmanFilter.KalmanFilter object at 0x7f2db724cd00>\n",
      " <feature_extractor.KalmanFilter.KalmanFilter object at 0x7f2db724cc10>\n",
      " <feature_extractor.KalmanFilter.KalmanFilter object at 0x7f2db724d150>\n",
      " <feature_extractor.KalmanFilter.KalmanFilter object at 0x7f2db724d570>\n",
      " <feature_extractor.KalmanFilter.KalmanFilter object at 0x7f2db724d0f0>\n",
      " <feature_extractor.KalmanFilter.KalmanFilter object at 0x7f2db724cd90>\n",
      " <feature_extractor.KalmanFilter.KalmanFilter object at 0x7f2db724cf10>\n",
      " <feature_extractor.KalmanFilter.KalmanFilter object at 0x7f2db724c2e0>]\n"
     ]
    }
   ],
   "source": [
    "import numpy as np\n",
    "from feature_extractor.KalmanFilter import KalmanFilter\n",
    "\n",
    "a = np.empty(17, dtype=object)\n",
    "for i in range(17):\n",
    "    a[i] = KalmanFilter()\n",
    "\n",
    "print(a)"
   ]
  },
  {
   "cell_type": "code",
   "execution_count": 19,
   "metadata": {},
   "outputs": [
    {
     "name": "stdout",
     "output_type": "stream",
     "text": [
      "[[False False]\n",
      " [False False]\n",
      " [False False]\n",
      " [ True  True]\n",
      " [ True  True]\n",
      " [ True  True]\n",
      " [ True  True]\n",
      " [False False]\n",
      " [False False]\n",
      " [False False]]\n",
      "[False False False  True  True  True  True False False False]\n"
     ]
    }
   ],
   "source": [
    "import numpy as np\n",
    "keypoints_2d = np.array([\n",
    "    [0.00, 0.00, 0.10],\n",
    "    [0.00, 0.00, 0.10],\n",
    "    [0.00, 0.00, 0.10],\n",
    "    [700, 500, 0.9],\n",
    "    [700, 500, 0.9],\n",
    "    [700, 500, 0.9],\n",
    "    [700, 500, 0.9],\n",
    "    [0.00, 0.00, 0.10],\n",
    "    [0.00, 0.00, 0.10],\n",
    "    [0.00, 0.00, 0.10],\n",
    "\n",
    "])\n",
    "valid_xy = keypoints_2d[:,:2] != int(0)        # bool [K,2]\n",
    "valid_keypoint = valid_xy[:,0] & valid_xy[:,1]\n",
    "print(valid_xy)\n",
    "print(valid_keypoint)"
   ]
  },
  {
   "cell_type": "code",
   "execution_count": 33,
   "metadata": {},
   "outputs": [
    {
     "name": "stdout",
     "output_type": "stream",
     "text": [
      "[[[0.11113873 0.59743193 0.9495511 ]\n",
      "  [0.87999633 0.70648137 0.12723671]]\n",
      "\n",
      " [[0.33335164 0.96645536 0.6369063 ]\n",
      "  [0.89202902 0.55118741 0.12110179]]]\n",
      "{1: array([[[0., 0., 0.],\n",
      "        [0., 0., 0.]],\n",
      "\n",
      "       [[0., 0., 0.],\n",
      "        [0., 0., 0.]]]), 2: array([3, 4, 5, 6, 7])}\n"
     ]
    }
   ],
   "source": [
    "from std_msgs.msg import Int16MultiArray\n",
    "import numpy as np\n",
    "import time\n",
    "\n",
    "keypoints_3d = np.random.random((2, 2, 3))\n",
    "id_human = np.array([3,4,5,6,7])\n",
    "\n",
    "\n",
    "a = {1:keypoints_3d, 2:id_human}\n",
    "b =  a.setdefault(1, keypoints_3d)\n",
    "print(b)\n",
    "b = np.zeros_like(keypoints_3d)\n",
    "print(a)"
   ]
  },
  {
   "cell_type": "code",
   "execution_count": null,
   "metadata": {},
   "outputs": [],
   "source": [
    "import numpy as np\n",
    "import cv2\n",
    "\n",
    "width = 11\n",
    "height = 11\n",
    "shape = cv2.MORPH_RECT\n",
    "kernel = cv2.getStructuringElement(shape, (height,width))\n",
    "\n",
    "\n",
    "cx = 10 \n",
    "cy = 10\n",
    "\n",
    "top_left_x = cx - (width >> 1)\n",
    "top_left_y = cy - (width >> 1)\n",
    "\n",
    "bottom_right_x = top_left_x + width\n",
    "bottom_right_y = top_left_y + height\n",
    "\n"
   ]
  },
  {
   "cell_type": "code",
   "execution_count": 15,
   "metadata": {},
   "outputs": [
    {
     "ename": "IndexError",
     "evalue": "index 3 is out of bounds for axis 0 with size 3",
     "output_type": "error",
     "traceback": [
      "\u001b[0;31m---------------------------------------------------------------------------\u001b[0m",
      "\u001b[0;31mIndexError\u001b[0m                                Traceback (most recent call last)",
      "Cell \u001b[0;32mIn[15], line 3\u001b[0m\n\u001b[1;32m      1\u001b[0m \u001b[38;5;28;01mimport\u001b[39;00m \u001b[38;5;21;01mnumpy\u001b[39;00m \u001b[38;5;28;01mas\u001b[39;00m \u001b[38;5;21;01mnp\u001b[39;00m\n\u001b[1;32m      2\u001b[0m a \u001b[38;5;241m=\u001b[39m np\u001b[38;5;241m.\u001b[39marray([\u001b[38;5;241m1\u001b[39m,\u001b[38;5;241m2\u001b[39m,\u001b[38;5;241m3\u001b[39m])\n\u001b[0;32m----> 3\u001b[0m \u001b[43ma\u001b[49m\u001b[43m[\u001b[49m\u001b[38;5;241;43m3\u001b[39;49m\u001b[43m]\u001b[49m\n",
      "\u001b[0;31mIndexError\u001b[0m: index 3 is out of bounds for axis 0 with size 3"
     ]
    }
   ],
   "source": [
    "original\n",
    "    xy=780*1280\n",
    "    0,1 = 1280, 780\n",
    "\n",
    "rotate\n",
    "    xy=1280*780\n",
    "    0,1 = 780,1280\n",
    "\n",
    "keypoint\n",
    "    [0] = 5.0851e+02, 1.4669e+02, 9.9753e-01 top_right\n",
    "            [508 in 720, 146 in 1280]\n",
    "            ----> axis 0\n",
    "            |\n",
    "            |\n",
    "            v axis 1"
   ]
  },
  {
   "cell_type": "code",
   "execution_count": 7,
   "metadata": {},
   "outputs": [
    {
     "name": "stdout",
     "output_type": "stream",
     "text": [
      "depth: [[ 88.42353238 194.96971165   4.99001936 ...  27.14199307  23.37743493\n",
      "  132.75362474]\n",
      " [224.60030007 114.06453306   5.17451754 ... 129.95060326 125.42905011\n",
      "  150.31670276]\n",
      " [150.43616548 116.01041308 180.75439215 ... 188.27284004 204.63548575\n",
      "   99.16942051]\n",
      " ...\n",
      " [ 51.16250541   0.94402626 160.19179622 ... 198.63525674 104.54399444\n",
      "   49.39227637]\n",
      " [ 46.46161122  88.57659276  83.83177551 ... 154.42897989  92.8724417\n",
      "   55.0299719 ]\n",
      " [ 21.3814639   24.63635794 152.43285702 ... 150.57580352 156.04568433\n",
      "  105.52936559]]\n",
      "dd: [[4.99001936 4.99001936 4.99001936 4.99001936 4.99001936]\n",
      " [4.99001936 3.5372296  3.5372296  3.5372296  3.5372296 ]\n",
      " [4.99001936 3.5372296  3.5372296  3.5372296  3.5372296 ]\n",
      " [4.99001936 3.5372296  3.5372296  3.5372296  3.5372296 ]\n",
      " [4.99001936 3.5372296  0.54900438 0.54900438 0.54900438]]\n",
      "region [[0.54900438 0.54900438 0.54900438 0.54900438 0.54900438 0.54900438\n",
      "  0.54900438 0.54900438 0.54900438 0.54900438 0.54900438]\n",
      " [0.54900438 0.54900438 0.54900438 0.54900438 0.54900438 0.54900438\n",
      "  0.54900438 0.54900438 0.54900438 0.54900438 0.54900438]\n",
      " [0.54900438 0.54900438 0.54900438 0.54900438 0.54900438 0.54900438\n",
      "  0.54900438 0.54900438 0.54900438 0.54900438 0.54900438]\n",
      " [0.54900438 0.54900438 0.54900438 0.54900438 0.54900438 0.54900438\n",
      "  0.54900438 0.54900438 0.54900438 0.54900438 0.54900438]\n",
      " [0.54900438 0.54900438 0.54900438 0.54900438 0.54900438 0.54900438\n",
      "  0.54900438 0.54900438 0.54900438 0.54900438 0.54900438]\n",
      " [0.54900438 0.54900438 0.54900438 0.54900438 0.54900438 0.54900438\n",
      "  0.54900438 0.54900438 0.54900438 0.54900438 0.54900438]\n",
      " [0.54900438 0.54900438 0.54900438 0.54900438 0.54900438 0.54900438\n",
      "  0.54900438 0.54900438 0.54900438 0.54900438 0.54900438]\n",
      " [0.54900438 0.54900438 0.54900438 0.54900438 0.54900438 0.54900438\n",
      "  0.54900438 0.54900438 0.54900438 0.54900438 0.54900438]\n",
      " [0.54900438 0.54900438 0.54900438 0.54900438 0.54900438 0.54900438\n",
      "  0.54900438 0.54900438 0.54900438 0.54900438 0.54900438]\n",
      " [0.54900438 0.54900438 0.54900438 0.54900438 0.54900438 0.54900438\n",
      "  0.54900438 0.54900438 0.54900438 0.54900438 0.54900438]\n",
      " [0.54900438 0.54900438 0.54900438 0.54900438 0.54900438 0.54900438\n",
      "  0.54900438 0.54900438 0.54900438 0.54900438 0.54900438]]\n"
     ]
    }
   ],
   "source": [
    "import cv2\n",
    "import numpy as np\n",
    "depth = np.random.random((720,1280))*255\n",
    "kernel = cv2.getStructuringElement(cv2.MORPH_RECT,(11,11))\n",
    "region = depth[0:11,0:11]\n",
    "dd = cv2.erode(region,kernel)\n",
    "\n",
    "print(\"depth:\",depth)\n",
    "print(\"dd:\",dd[:5,:5])\n",
    "region[...] = np.min(region)\n",
    "# print(np.min(region))\n",
    "print(\"region\",region)"
   ]
  },
  {
   "cell_type": "code",
   "execution_count": 11,
   "metadata": {},
   "outputs": [
    {
     "name": "stdout",
     "output_type": "stream",
     "text": [
      "float32\n",
      "float32\n"
     ]
    }
   ],
   "source": [
    "scores1 = np.array([[[1.,2.],[3.,4.],[5.,6.]],[[11.,12.],[13.,14.],[15.,16.]]],dtype='float32')\n",
    "scores2 = np.array([[[1.,2.],[3.,4.],[5.,6.]],[[11.,12.],[13.,14.],[15.,16.]]],dtype=np.float32)\n",
    "\n",
    "print(scores1.dtype)\n",
    "print(scores2.dtype)"
   ]
  },
  {
   "cell_type": "code",
   "execution_count": 15,
   "metadata": {},
   "outputs": [
    {
     "name": "stdout",
     "output_type": "stream",
     "text": [
      "not None\n"
     ]
    }
   ],
   "source": [
    "a = None\n",
    "K = 17\n",
    "a = np.empty(K,dtype=object)\n",
    "a = None\n",
    "\n",
    "if a is not None:\n",
    "    print(\"not None\")"
   ]
  }
 ],
 "metadata": {
  "kernelspec": {
   "display_name": ".venv",
   "language": "python",
   "name": "python3"
  },
  "language_info": {
   "codemirror_mode": {
    "name": "ipython",
    "version": 3
   },
   "file_extension": ".py",
   "mimetype": "text/x-python",
   "name": "python",
   "nbconvert_exporter": "python",
   "pygments_lexer": "ipython3",
   "version": "3.10.13"
  }
 },
 "nbformat": 4,
 "nbformat_minor": 2
}
