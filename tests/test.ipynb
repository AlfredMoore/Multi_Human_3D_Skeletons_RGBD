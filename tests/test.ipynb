{
 "cells": [
  {
   "cell_type": "code",
   "execution_count": 8,
   "metadata": {},
   "outputs": [
    {
     "name": "stdout",
     "output_type": "stream",
     "text": [
      "[[0 0 0 0]\n",
      " [0 0 0 0]\n",
      " [0 0 0 0]]\n"
     ]
    },
    {
     "ename": "AssertionError",
     "evalue": "shape of depth must be (K,)",
     "output_type": "error",
     "traceback": [
      "\u001b[0;31m---------------------------------------------------------------------------\u001b[0m",
      "\u001b[0;31mAssertionError\u001b[0m                            Traceback (most recent call last)",
      "Cell \u001b[0;32mIn[8], line 26\u001b[0m\n\u001b[1;32m     23\u001b[0m \u001b[38;5;28mtype\u001b[39m(np\u001b[38;5;241m.\u001b[39mfloat16(\u001b[38;5;241m1\u001b[39m))\n\u001b[1;32m     25\u001b[0m a \u001b[38;5;241m=\u001b[39m np\u001b[38;5;241m.\u001b[39marange(\u001b[38;5;241m9\u001b[39m)\n\u001b[0;32m---> 26\u001b[0m \u001b[38;5;28;01massert\u001b[39;00m a\u001b[38;5;241m.\u001b[39mshape \u001b[38;5;241m==\u001b[39m (\u001b[38;5;241m9\u001b[39m) , \u001b[38;5;124m'\u001b[39m\u001b[38;5;124mshape of depth must be (K,)\u001b[39m\u001b[38;5;124m'\u001b[39m\n",
      "\u001b[0;31mAssertionError\u001b[0m: shape of depth must be (K,)"
     ]
    }
   ],
   "source": [
    "import numpy as np\n",
    "\n",
    "a = np.random.random((3,4))\n",
    "print(a.astype(np.int16))\n",
    "# a = np.zeros_like(a)\n",
    "b = a >= 0.5\n",
    "\n",
    "# # print(b[:,0:1].shape)\n",
    "# print(a)\n",
    "# print(b)\n",
    "# print(a[b[:,0], : ])    # vector\n",
    "# print(a[b[:,0:1], : ])    # vector\n",
    "\n",
    "Sigma : np.ndarray = None           # Covariance A\n",
    "# Sigma = np.array([1,2,3])\n",
    "# Sigma\n",
    "\n",
    "a = np.random.random((3,4)).astype(np.float128)\n",
    "b = np.random.random((3,4)).astype(np.float64)\n",
    "\n",
    "(a + b).dtype\n",
    "\n",
    "type(np.float16(1))\n",
    "\n",
    "a = np.arange(9)\n",
    "assert a.shape == (9) , 'shape of depth must be (K,)'\n"
   ]
  },
  {
   "cell_type": "code",
   "execution_count": 25,
   "metadata": {},
   "outputs": [
    {
     "data": {
      "text/plain": [
       "{1: <__main__.ppp at 0x7f8a77522200>,\n",
       " 2: <__main__.ppp at 0x7f8a77520c10>,\n",
       " 100: <__main__.ppp at 0x7f8a775210f0>}"
      ]
     },
     "execution_count": 25,
     "metadata": {},
     "output_type": "execute_result"
    }
   ],
   "source": [
    "class ppp:\n",
    "    def __init__(self) -> None:\n",
    "        self.b = 10000\n",
    "\n",
    "a = dict()\n",
    "a[1] = ppp()\n",
    "a[2] = ppp()\n",
    "a[100] = ppp()\n",
    "\n",
    "a"
   ]
  },
  {
   "cell_type": "code",
   "execution_count": 27,
   "metadata": {},
   "outputs": [
    {
     "name": "stdout",
     "output_type": "stream",
     "text": [
      "brand Ford\n",
      "model Mustang\n",
      "year 1964\n"
     ]
    }
   ],
   "source": [
    "car = {\n",
    "  \"brand\": \"Ford\",\n",
    "  \"model\": \"Mustang\",\n",
    "  \"year\": 1964\n",
    "}\n",
    "\n",
    "x = car.items()\n",
    "\n",
    "for key, value in car.items():\n",
    "    print(key, value)"
   ]
  },
  {
   "cell_type": "code",
   "execution_count": 35,
   "metadata": {},
   "outputs": [
    {
     "name": "stdout",
     "output_type": "stream",
     "text": [
      "232\n",
      "232\n",
      "232\n",
      "232\n",
      "232\n"
     ]
    }
   ],
   "source": [
    "import sys\n",
    "\n",
    "# Create a dictionary\n",
    "my_dict = {'a': 1, 'b': 2, 'c': 3, 'd': 4}\n",
    "print(sys.getsizeof(my_dict))\n",
    "# Delete specific elements from the dictionary\n",
    "\n",
    "\n",
    "del my_dict['a']\n",
    "print(sys.getsizeof(my_dict))\n",
    "\n",
    "del my_dict['b']\n",
    "print(sys.getsizeof(my_dict))\n",
    "\n",
    "my_dict['c'] = None\n",
    "print(sys.getsizeof(my_dict))\n",
    "    \n",
    "del my_dict['c']\n",
    "print(sys.getsizeof(my_dict))"
   ]
  },
  {
   "cell_type": "code",
   "execution_count": 14,
   "metadata": {},
   "outputs": [
    {
     "data": {
      "text/plain": [
       "array([[0.11848533, 0.        , 0.        , 0.        , 0.        ,\n",
       "        0.        , 0.        , 0.        , 0.        , 0.        ,\n",
       "        0.        , 0.        , 0.        , 0.        , 0.        ,\n",
       "        0.        , 0.        ],\n",
       "       [0.        , 0.3443226 , 0.        , 0.        , 0.        ,\n",
       "        0.        , 0.        , 0.        , 0.        , 0.        ,\n",
       "        0.        , 0.        , 0.        , 0.        , 0.        ,\n",
       "        0.        , 0.        ],\n",
       "       [0.        , 0.        , 0.11291263, 0.        , 0.        ,\n",
       "        0.        , 0.        , 0.        , 0.        , 0.        ,\n",
       "        0.        , 0.        , 0.        , 0.        , 0.        ,\n",
       "        0.        , 0.        ],\n",
       "       [0.        , 0.        , 0.        , 0.5588465 , 0.        ,\n",
       "        0.        , 0.        , 0.        , 0.        , 0.        ,\n",
       "        0.        , 0.        , 0.        , 0.        , 0.        ,\n",
       "        0.        , 0.        ],\n",
       "       [0.        , 0.        , 0.        , 0.        , 0.99065133,\n",
       "        0.        , 0.        , 0.        , 0.        , 0.        ,\n",
       "        0.        , 0.        , 0.        , 0.        , 0.        ,\n",
       "        0.        , 0.        ],\n",
       "       [0.        , 0.        , 0.        , 0.        , 0.        ,\n",
       "        0.15646374, 0.        , 0.        , 0.        , 0.        ,\n",
       "        0.        , 0.        , 0.        , 0.        , 0.        ,\n",
       "        0.        , 0.        ],\n",
       "       [0.        , 0.        , 0.        , 0.        , 0.        ,\n",
       "        0.        , 0.81491262, 0.        , 0.        , 0.        ,\n",
       "        0.        , 0.        , 0.        , 0.        , 0.        ,\n",
       "        0.        , 0.        ],\n",
       "       [0.        , 0.        , 0.        , 0.        , 0.        ,\n",
       "        0.        , 0.        , 0.26813821, 0.        , 0.        ,\n",
       "        0.        , 0.        , 0.        , 0.        , 0.        ,\n",
       "        0.        , 0.        ],\n",
       "       [0.        , 0.        , 0.        , 0.        , 0.        ,\n",
       "        0.        , 0.        , 0.        , 0.41506874, 0.        ,\n",
       "        0.        , 0.        , 0.        , 0.        , 0.        ,\n",
       "        0.        , 0.        ],\n",
       "       [0.        , 0.        , 0.        , 0.        , 0.        ,\n",
       "        0.        , 0.        , 0.        , 0.        , 0.35111407,\n",
       "        0.        , 0.        , 0.        , 0.        , 0.        ,\n",
       "        0.        , 0.        ],\n",
       "       [0.        , 0.        , 0.        , 0.        , 0.        ,\n",
       "        0.        , 0.        , 0.        , 0.        , 0.        ,\n",
       "        0.87398484, 0.        , 0.        , 0.        , 0.        ,\n",
       "        0.        , 0.        ],\n",
       "       [0.        , 0.        , 0.        , 0.        , 0.        ,\n",
       "        0.        , 0.        , 0.        , 0.        , 0.        ,\n",
       "        0.        , 0.6239928 , 0.        , 0.        , 0.        ,\n",
       "        0.        , 0.        ],\n",
       "       [0.        , 0.        , 0.        , 0.        , 0.        ,\n",
       "        0.        , 0.        , 0.        , 0.        , 0.        ,\n",
       "        0.        , 0.        , 0.06676749, 0.        , 0.        ,\n",
       "        0.        , 0.        ],\n",
       "       [0.        , 0.        , 0.        , 0.        , 0.        ,\n",
       "        0.        , 0.        , 0.        , 0.        , 0.        ,\n",
       "        0.        , 0.        , 0.        , 0.1090509 , 0.        ,\n",
       "        0.        , 0.        ],\n",
       "       [0.        , 0.        , 0.        , 0.        , 0.        ,\n",
       "        0.        , 0.        , 0.        , 0.        , 0.        ,\n",
       "        0.        , 0.        , 0.        , 0.        , 0.18978993,\n",
       "        0.        , 0.        ],\n",
       "       [0.        , 0.        , 0.        , 0.        , 0.        ,\n",
       "        0.        , 0.        , 0.        , 0.        , 0.        ,\n",
       "        0.        , 0.        , 0.        , 0.        , 0.        ,\n",
       "        0.93221217, 0.        ],\n",
       "       [0.        , 0.        , 0.        , 0.        , 0.        ,\n",
       "        0.        , 0.        , 0.        , 0.        , 0.        ,\n",
       "        0.        , 0.        , 0.        , 0.        , 0.        ,\n",
       "        0.        , 0.68699837]])"
      ]
     },
     "execution_count": 14,
     "metadata": {},
     "output_type": "execute_result"
    }
   ],
   "source": [
    "import numpy as np\n",
    "\n",
    "\n",
    "keypoints = np.random.random((17,3))*100\n",
    "axis_0 = 720 - keypoints[:, 0:1]  # vector [K,]\n",
    "axis_1 = keypoints[:, 1:2]     \n",
    "# print(axis_0)\n",
    "keypoints_pixel = np.concatenate((axis_0,axis_1), axis=1).astype(np.int16)\n",
    "depth_frame = np.random.random((720,1280))\n",
    "depth = depth_frame[keypoints_pixel[:,0], keypoints_pixel[:,1]]\n",
    "np.diag(depth)"
   ]
  },
  {
   "cell_type": "code",
   "execution_count": 15,
   "metadata": {},
   "outputs": [
    {
     "name": "stdout",
     "output_type": "stream",
     "text": [
      "[<feature_extractor.KalmanFilter.KalmanFilter object at 0x7f2db724fe50>\n",
      " <feature_extractor.KalmanFilter.KalmanFilter object at 0x7f2db724f580>\n",
      " <feature_extractor.KalmanFilter.KalmanFilter object at 0x7f2db724e890>\n",
      " <feature_extractor.KalmanFilter.KalmanFilter object at 0x7f2db724eec0>\n",
      " <feature_extractor.KalmanFilter.KalmanFilter object at 0x7f2db724eb30>\n",
      " <feature_extractor.KalmanFilter.KalmanFilter object at 0x7f2db724c100>\n",
      " <feature_extractor.KalmanFilter.KalmanFilter object at 0x7f2db724faf0>\n",
      " <feature_extractor.KalmanFilter.KalmanFilter object at 0x7f2db724c4f0>\n",
      " <feature_extractor.KalmanFilter.KalmanFilter object at 0x7f2db724e980>\n",
      " <feature_extractor.KalmanFilter.KalmanFilter object at 0x7f2db724cd00>\n",
      " <feature_extractor.KalmanFilter.KalmanFilter object at 0x7f2db724cc10>\n",
      " <feature_extractor.KalmanFilter.KalmanFilter object at 0x7f2db724d150>\n",
      " <feature_extractor.KalmanFilter.KalmanFilter object at 0x7f2db724d570>\n",
      " <feature_extractor.KalmanFilter.KalmanFilter object at 0x7f2db724d0f0>\n",
      " <feature_extractor.KalmanFilter.KalmanFilter object at 0x7f2db724cd90>\n",
      " <feature_extractor.KalmanFilter.KalmanFilter object at 0x7f2db724cf10>\n",
      " <feature_extractor.KalmanFilter.KalmanFilter object at 0x7f2db724c2e0>]\n"
     ]
    }
   ],
   "source": [
    "import numpy as np\n",
    "from feature_extractor.KalmanFilter import KalmanFilter\n",
    "\n",
    "a = np.empty(17, dtype=object)\n",
    "for i in range(17):\n",
    "    a[i] = KalmanFilter()\n",
    "\n",
    "print(a)"
   ]
  },
  {
   "cell_type": "code",
   "execution_count": 19,
   "metadata": {},
   "outputs": [
    {
     "name": "stdout",
     "output_type": "stream",
     "text": [
      "[[False False]\n",
      " [False False]\n",
      " [False False]\n",
      " [ True  True]\n",
      " [ True  True]\n",
      " [ True  True]\n",
      " [ True  True]\n",
      " [False False]\n",
      " [False False]\n",
      " [False False]]\n",
      "[False False False  True  True  True  True False False False]\n"
     ]
    }
   ],
   "source": [
    "import numpy as np\n",
    "keypoints_2d = np.array([\n",
    "    [0.00, 0.00, 0.10],\n",
    "    [0.00, 0.00, 0.10],\n",
    "    [0.00, 0.00, 0.10],\n",
    "    [700, 500, 0.9],\n",
    "    [700, 500, 0.9],\n",
    "    [700, 500, 0.9],\n",
    "    [700, 500, 0.9],\n",
    "    [0.00, 0.00, 0.10],\n",
    "    [0.00, 0.00, 0.10],\n",
    "    [0.00, 0.00, 0.10],\n",
    "\n",
    "])\n",
    "valid_xy = keypoints_2d[:,:2] != int(0)        # bool [K,2]\n",
    "valid_keypoint = valid_xy[:,0] & valid_xy[:,1]\n",
    "print(valid_xy)\n",
    "print(valid_keypoint)"
   ]
  },
  {
   "cell_type": "code",
   "execution_count": 25,
   "metadata": {},
   "outputs": [
    {
     "name": "stdout",
     "output_type": "stream",
     "text": [
      "{'a': 1, 'b': 2}\n"
     ]
    },
    {
     "ename": "TypeError",
     "evalue": "'type' object is not iterable",
     "output_type": "error",
     "traceback": [
      "\u001b[0;31m---------------------------------------------------------------------------\u001b[0m",
      "\u001b[0;31mTypeError\u001b[0m                                 Traceback (most recent call last)",
      "Cell \u001b[0;32mIn[25], line 8\u001b[0m\n\u001b[1;32m      5\u001b[0m \u001b[38;5;66;03m# print(value)\u001b[39;00m\n\u001b[1;32m      6\u001b[0m \u001b[38;5;28mprint\u001b[39m(my_dict)  \u001b[38;5;66;03m# {'a': 1, 'b': 2, 'c': 3}\u001b[39;00m\n\u001b[0;32m----> 8\u001b[0m asdas \u001b[38;5;241m=\u001b[39m \u001b[38;5;28;43mdict\u001b[39;49m\u001b[43m(\u001b[49m\u001b[38;5;28;43mint\u001b[39;49m\u001b[43m)\u001b[49m\n",
      "\u001b[0;31mTypeError\u001b[0m: 'type' object is not iterable"
     ]
    }
   ],
   "source": [
    "my_dict = {\"a\": 1, \"b\": 2}\n",
    "\n",
    "# Query the key 'c', set to 3 if it doesn't exist\n",
    "my_dict.setdefault('b', 3)\n",
    "# print(value)\n",
    "print(my_dict)  # {'a': 1, 'b': 2, 'c': 3}\n"
   ]
  }
 ],
 "metadata": {
  "kernelspec": {
   "display_name": ".venv",
   "language": "python",
   "name": "python3"
  },
  "language_info": {
   "codemirror_mode": {
    "name": "ipython",
    "version": 3
   },
   "file_extension": ".py",
   "mimetype": "text/x-python",
   "name": "python",
   "nbconvert_exporter": "python",
   "pygments_lexer": "ipython3",
   "version": "3.10.13"
  }
 },
 "nbformat": 4,
 "nbformat_minor": 2
}
